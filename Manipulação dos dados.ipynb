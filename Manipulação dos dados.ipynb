{
 "cells": [
  {
   "cell_type": "code",
   "execution_count": 4,
   "metadata": {},
   "outputs": [],
   "source": [
    "# Bibliotecas\n",
    "import pandas as pd\n",
    "import numpy as np"
   ]
  },
  {
   "cell_type": "code",
   "execution_count": 5,
   "metadata": {},
   "outputs": [],
   "source": [
    "# Carregando meu dataset\n",
    "dataset = pd.read_csv('london_merged.csv')"
   ]
  },
  {
   "cell_type": "code",
   "execution_count": 6,
   "metadata": {},
   "outputs": [
    {
     "name": "stdout",
     "output_type": "stream",
     "text": [
      "<class 'pandas.core.frame.DataFrame'>\n",
      "RangeIndex: 17414 entries, 0 to 17413\n",
      "Data columns (total 10 columns):\n",
      " #   Column        Non-Null Count  Dtype  \n",
      "---  ------        --------------  -----  \n",
      " 0   timestamp     17414 non-null  object \n",
      " 1   cnt           17414 non-null  int64  \n",
      " 2   t1            17414 non-null  float64\n",
      " 3   t2            17414 non-null  float64\n",
      " 4   hum           17414 non-null  float64\n",
      " 5   wind_speed    17414 non-null  float64\n",
      " 6   weather_code  17414 non-null  float64\n",
      " 7   is_holiday    17414 non-null  float64\n",
      " 8   is_weekend    17414 non-null  float64\n",
      " 9   season        17414 non-null  float64\n",
      "dtypes: float64(8), int64(1), object(1)\n",
      "memory usage: 1.3+ MB\n"
     ]
    }
   ],
   "source": [
    "# Exploração dos dados\n",
    "dataset.info()"
   ]
  },
  {
   "cell_type": "code",
   "execution_count": 8,
   "metadata": {},
   "outputs": [
    {
     "data": {
      "text/plain": [
       "(17414, 10)"
      ]
     },
     "execution_count": 8,
     "metadata": {},
     "output_type": "execute_result"
    }
   ],
   "source": [
    "# Consultando o tamanho da base de dados\n",
    "dataset.shape"
   ]
  },
  {
   "cell_type": "code",
   "execution_count": 10,
   "metadata": {},
   "outputs": [
    {
     "data": {
      "text/plain": [
       "<bound method IndexOpsMixin.value_counts of 0        3.0\n",
       "1        1.0\n",
       "2        1.0\n",
       "3        1.0\n",
       "4        1.0\n",
       "        ... \n",
       "17409    3.0\n",
       "17410    4.0\n",
       "17411    4.0\n",
       "17412    4.0\n",
       "17413    2.0\n",
       "Name: weather_code, Length: 17414, dtype: float64>"
      ]
     },
     "execution_count": 10,
     "metadata": {},
     "output_type": "execute_result"
    }
   ],
   "source": [
    "# Contagem dos valores únicos da coluna weather_code\n",
    "dataset.weather_code.value_counts()"
   ]
  },
  {
   "cell_type": "code",
   "execution_count": 12,
   "metadata": {},
   "outputs": [
    {
     "data": {
      "text/plain": [
       "0.0    4394\n",
       "1.0    4387\n",
       "3.0    4330\n",
       "2.0    4303\n",
       "Name: season, dtype: int64"
      ]
     },
     "execution_count": 12,
     "metadata": {},
     "output_type": "execute_result"
    }
   ],
   "source": [
    "# Contagem dos valores únicos na coluna season\n",
    "dataset.season.value_counts()"
   ]
  },
  {
   "cell_type": "code",
   "execution_count": 13,
   "metadata": {},
   "outputs": [],
   "source": [
    "# Criando dicionário para renomear as colunas\n",
    "Rename = {\n",
    "    'timestamp': 'hora',\n",
    "    'cnt': 'contagem',\n",
    "    't1': 'temp_real_C',\n",
    "    't2': 'sensacao_temp_C',\n",
    "    'hum': 'umidade_percent',\n",
    "    'wind_speed': 'velocidade_vendo_km/h',\n",
    "    'weather_code': 'clima',\n",
    "    'is_holiday': 'feriado',\n",
    "    'is_weekend': 'final_de_semana',\n",
    "    'season': 'temporada'\n",
    "}\n",
    "\n",
    "# Renomeando as colunas do dataset a partir do dicionário\n",
    "dataset.rename(Rename, axis=1, inplace=True)"
   ]
  },
  {
   "cell_type": "code",
   "execution_count": 14,
   "metadata": {},
   "outputs": [],
   "source": [
    "# Tratando os valores percentuais na coluna de umidade_percent\n",
    "dataset.umidade_percent = dataset.umidade_percent / 100 "
   ]
  },
  {
   "cell_type": "code",
   "execution_count": 16,
   "metadata": {},
   "outputs": [],
   "source": [
    "# Criando um diconário para definir as estações do ano\n",
    "temporada_dicionario = {\n",
    "    '0.0': 'Primavera',\n",
    "    '1.0': 'Verão',\n",
    "    '2.0': 'Outono',\n",
    "    '3.0': 'Inverno'\n",
    "}\n",
    "\n",
    "# Criando um dicionário para definir o clima\n",
    "clima_dicionario = {\n",
    "    '1.0': 'Limpo',\n",
    "    '2.0': 'Nuvens espalhadas',\n",
    "    '3.0': 'Nuvens quebradas',\n",
    "    '4.0': 'Nublado',\n",
    "    '7.0': 'Chuvoso',\n",
    "    '10.0': 'Tempestada',\n",
    "    '26.0': 'Nevoso'\n",
    "}\n",
    "\n",
    "# Tratando os valores da coluna temporada para string (texto)\n",
    "dataset.temporada = dataset.temporada.astype('str')\n",
    "# Renomeando os valores numéricos para os valores do dicionário\n",
    "dataset.temporada = dataset.temporada.map(temporada_dicionario)\n",
    "\n",
    "# Tratando os valores da coluna clima para string (texto)\n",
    "dataset.clima = dataset.clima.astype('str')\n",
    "# Renomeando os valores numéricos para os valores do dicionário\n",
    "dataset.clima = dataset.clima.map(clima_dicionario)"
   ]
  },
  {
   "cell_type": "code",
   "execution_count": 17,
   "metadata": {},
   "outputs": [
    {
     "data": {
      "text/html": [
       "<div>\n",
       "<style scoped>\n",
       "    .dataframe tbody tr th:only-of-type {\n",
       "        vertical-align: middle;\n",
       "    }\n",
       "\n",
       "    .dataframe tbody tr th {\n",
       "        vertical-align: top;\n",
       "    }\n",
       "\n",
       "    .dataframe thead th {\n",
       "        text-align: right;\n",
       "    }\n",
       "</style>\n",
       "<table border=\"1\" class=\"dataframe\">\n",
       "  <thead>\n",
       "    <tr style=\"text-align: right;\">\n",
       "      <th></th>\n",
       "      <th>hora</th>\n",
       "      <th>contagem</th>\n",
       "      <th>temp_real_C</th>\n",
       "      <th>sensacao_temp_C</th>\n",
       "      <th>umidade_percent</th>\n",
       "      <th>velocidade_vendo_km/h</th>\n",
       "      <th>clima</th>\n",
       "      <th>feriado</th>\n",
       "      <th>final_de_semana</th>\n",
       "      <th>temporada</th>\n",
       "    </tr>\n",
       "  </thead>\n",
       "  <tbody>\n",
       "    <tr>\n",
       "      <th>0</th>\n",
       "      <td>2015-01-04 00:00:00</td>\n",
       "      <td>182</td>\n",
       "      <td>3.0</td>\n",
       "      <td>2.0</td>\n",
       "      <td>0.930</td>\n",
       "      <td>6.0</td>\n",
       "      <td>Nuvens quebradas</td>\n",
       "      <td>0.0</td>\n",
       "      <td>1.0</td>\n",
       "      <td>Inverno</td>\n",
       "    </tr>\n",
       "    <tr>\n",
       "      <th>1</th>\n",
       "      <td>2015-01-04 01:00:00</td>\n",
       "      <td>138</td>\n",
       "      <td>3.0</td>\n",
       "      <td>2.5</td>\n",
       "      <td>0.930</td>\n",
       "      <td>5.0</td>\n",
       "      <td>Limpo</td>\n",
       "      <td>0.0</td>\n",
       "      <td>1.0</td>\n",
       "      <td>Inverno</td>\n",
       "    </tr>\n",
       "    <tr>\n",
       "      <th>2</th>\n",
       "      <td>2015-01-04 02:00:00</td>\n",
       "      <td>134</td>\n",
       "      <td>2.5</td>\n",
       "      <td>2.5</td>\n",
       "      <td>0.965</td>\n",
       "      <td>0.0</td>\n",
       "      <td>Limpo</td>\n",
       "      <td>0.0</td>\n",
       "      <td>1.0</td>\n",
       "      <td>Inverno</td>\n",
       "    </tr>\n",
       "    <tr>\n",
       "      <th>3</th>\n",
       "      <td>2015-01-04 03:00:00</td>\n",
       "      <td>72</td>\n",
       "      <td>2.0</td>\n",
       "      <td>2.0</td>\n",
       "      <td>1.000</td>\n",
       "      <td>0.0</td>\n",
       "      <td>Limpo</td>\n",
       "      <td>0.0</td>\n",
       "      <td>1.0</td>\n",
       "      <td>Inverno</td>\n",
       "    </tr>\n",
       "    <tr>\n",
       "      <th>4</th>\n",
       "      <td>2015-01-04 04:00:00</td>\n",
       "      <td>47</td>\n",
       "      <td>2.0</td>\n",
       "      <td>0.0</td>\n",
       "      <td>0.930</td>\n",
       "      <td>6.5</td>\n",
       "      <td>Limpo</td>\n",
       "      <td>0.0</td>\n",
       "      <td>1.0</td>\n",
       "      <td>Inverno</td>\n",
       "    </tr>\n",
       "  </tbody>\n",
       "</table>\n",
       "</div>"
      ],
      "text/plain": [
       "                  hora  contagem  temp_real_C  sensacao_temp_C  \\\n",
       "0  2015-01-04 00:00:00       182          3.0              2.0   \n",
       "1  2015-01-04 01:00:00       138          3.0              2.5   \n",
       "2  2015-01-04 02:00:00       134          2.5              2.5   \n",
       "3  2015-01-04 03:00:00        72          2.0              2.0   \n",
       "4  2015-01-04 04:00:00        47          2.0              0.0   \n",
       "\n",
       "   umidade_percent  velocidade_vendo_km/h             clima  feriado  \\\n",
       "0            0.930                    6.0  Nuvens quebradas      0.0   \n",
       "1            0.930                    5.0             Limpo      0.0   \n",
       "2            0.965                    0.0             Limpo      0.0   \n",
       "3            1.000                    0.0             Limpo      0.0   \n",
       "4            0.930                    6.5             Limpo      0.0   \n",
       "\n",
       "   final_de_semana temporada  \n",
       "0              1.0   Inverno  \n",
       "1              1.0   Inverno  \n",
       "2              1.0   Inverno  \n",
       "3              1.0   Inverno  \n",
       "4              1.0   Inverno  "
      ]
     },
     "execution_count": 17,
     "metadata": {},
     "output_type": "execute_result"
    }
   ],
   "source": [
    "# Chegando se as modificações foram realizadas\n",
    "dataset.head()"
   ]
  },
  {
   "cell_type": "code",
   "execution_count": 18,
   "metadata": {},
   "outputs": [],
   "source": [
    "# Salvando o dataframe em formato de excel para trabalhos futuros\n",
    "dataset.to_excel('london_bikes.xlsx', sheet_name='Aluguel de Bikes em Londres')"
   ]
  }
 ],
 "metadata": {
  "kernelspec": {
   "display_name": "base",
   "language": "python",
   "name": "python3"
  },
  "language_info": {
   "codemirror_mode": {
    "name": "ipython",
    "version": 3
   },
   "file_extension": ".py",
   "mimetype": "text/x-python",
   "name": "python",
   "nbconvert_exporter": "python",
   "pygments_lexer": "ipython3",
   "version": "3.9.13"
  }
 },
 "nbformat": 4,
 "nbformat_minor": 2
}
